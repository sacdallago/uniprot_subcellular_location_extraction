{
 "cells": [
  {
   "cell_type": "code",
   "execution_count": null,
   "metadata": {},
   "outputs": [],
   "source": [
    "import pandas as pd\n",
    "import xml.etree.ElementTree as ET\n",
    "from urllib.request import urlopen"
   ]
  },
  {
   "cell_type": "markdown",
   "metadata": {},
   "source": [
    "### How to get the URL:\n",
    "\n",
    "- Perform a search on uniptot\n",
    "- Click on the \"Download\" button, select \"XML\" as format, and select \"Preview first 10\"\n",
    "- Copy that url and delete the part that reads \"&limit=10\""
   ]
  },
  {
   "cell_type": "code",
   "execution_count": null,
   "metadata": {},
   "outputs": [],
   "source": [
    "# Change the URL to fit your request\n",
    "url = \"https://www.uniprot.org/uniprot/?query=*&format=xml&fil=organism:%22Homo%20sapiens%20(Human)%20[9606]%22%20AND%20reviewed:yes\"\n",
    "\n",
    "# Don't change the following if you don't know exactly what you are doing!\n",
    "namespaces = {\n",
    "    'd':'http://uniprot.org/uniprot',\n",
    "}"
   ]
  },
  {
   "cell_type": "code",
   "execution_count": null,
   "metadata": {},
   "outputs": [],
   "source": [
    "# This might take a while... sit back and relax\n",
    "tree = ET.parse(urlopen(url))"
   ]
  },
  {
   "cell_type": "code",
   "execution_count": null,
   "metadata": {},
   "outputs": [],
   "source": [
    "root = tree.getroot()"
   ]
  },
  {
   "cell_type": "code",
   "execution_count": null,
   "metadata": {},
   "outputs": [],
   "source": [
    "locations_list = list()\n",
    "\n",
    "for protein in root.findall('d:entry', namespaces=namespaces):\n",
    "    accession = protein.find('d:accession', namespaces=namespaces).text\n",
    "    comments = protein.findall('d:comment[@type=\"subcellular location\"]', namespaces=namespaces)\n",
    "    \n",
    "    for sub_cell_loc_comment in comments:\n",
    "        subcellularLocations = sub_cell_loc_comment.findall('d:subcellularLocation', namespaces=namespaces)\n",
    "\n",
    "        for subcellularLocation in subcellularLocations:\n",
    "            location = subcellularLocation.find('d:location', namespaces=namespaces)\n",
    "            location_text = location.text\n",
    "            evidences = location.get('evidence')\n",
    "            \n",
    "            if evidences:\n",
    "                for evidence in evidences.split(' '):\n",
    "                    current_evidence = protein.find('d:evidence[@key=\"{}\"]'.format(evidence), namespaces=namespaces)\n",
    "                    locations_list.append([accession, current_evidence.get('type'), location_text])\n",
    "            else:\n",
    "                locations_list.append([accession, None, location_text])\n",
    "    \n",
    "locations_dataframe = pd.DataFrame(locations_list, columns=['accession', 'evidence', 'location']).drop_duplicates()"
   ]
  },
  {
   "cell_type": "code",
   "execution_count": null,
   "metadata": {},
   "outputs": [],
   "source": [
    "locations_dataframe.to_csv(\"locations.tsv\", sep='\\t')"
   ]
  }
 ],
 "metadata": {
  "kernelspec": {
   "display_name": "Python 3",
   "language": "python",
   "name": "python3"
  },
  "language_info": {
   "codemirror_mode": {
    "name": "ipython",
    "version": 3
   },
   "file_extension": ".py",
   "mimetype": "text/x-python",
   "name": "python",
   "nbconvert_exporter": "python",
   "pygments_lexer": "ipython3",
   "version": "3.6.8"
  }
 },
 "nbformat": 4,
 "nbformat_minor": 2
}
