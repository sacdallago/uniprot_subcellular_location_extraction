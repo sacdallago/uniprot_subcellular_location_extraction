{
 "cells": [
  {
   "cell_type": "code",
   "execution_count": 1,
   "metadata": {
    "collapsed": true
   },
   "outputs": [],
   "source": [
    "import pandas as pd"
   ]
  },
  {
   "cell_type": "code",
   "execution_count": 2,
   "metadata": {},
   "outputs": [],
   "source": [
    "locations = pd.read_csv(\"locations.tsv\", sep=\"\\t\")"
   ]
  },
  {
   "cell_type": "code",
   "execution_count": 3,
   "metadata": {
    "collapsed": false
   },
   "outputs": [
    {
     "name": "stdout",
     "output_type": "stream",
     "text": [
      "Copy-paste the following to make your own mapping!\n\n\nevidence_mapping = {\n    \"ECO:0000269\": \"\",\n    \"ECO:0000250\": \"\",\n    \"ECO:0000305\": \"\",\n    \"ECO:0000255\": \"\",\n    \"ECO:0000303\": \"\"\n}\n"
     ]
    }
   ],
   "source": [
    "print(\"Copy-paste the following to make your own mapping!\\n\\n\")\n",
    "print(\"evidence_mapping = {\")\n",
    "print(\"    \\\"\" + \"\\\": \\\"\\\",\\n    \\\"\".join(locations['evidence'].dropna().unique()) + \"\\\": \\\"\\\"\")\n",
    "print(\"}\")"
   ]
  },
  {
   "cell_type": "code",
   "execution_count": 4,
   "metadata": {},
   "outputs": [],
   "source": [
    "evidence_mapping = {\n",
    "    \"ECO:0000269\": \"EXP\",\n",
    "    \"ECO:0000250\": \"ISS\",\n",
    "    \"ECO:0000305\": \"IC\",\n",
    "    \"ECO:0000255\": \"ISM\",\n",
    "    \"ECO:0000303\": \"NAS\"\n",
    "}"
   ]
  },
  {
   "cell_type": "code",
   "execution_count": 5,
   "metadata": {},
   "outputs": [],
   "source": [
    "# From https://academic.oup.com/database/article/doi/10.1093/database/bau012/2633793\n",
    "\n",
    "evidence_scores = {\n",
    "    \"EXP\": 3,\n",
    "    \"ISS\": 3,\n",
    "    \"IC\": 3,\n",
    "    \"ISM\": 3,\n",
    "    \"NAS\": 4\n",
    "}"
   ]
  },
  {
   "cell_type": "code",
   "execution_count": 6,
   "metadata": {},
   "outputs": [],
   "source": [
    "def get_reliability(evidence):\n",
    "    if evidence:\n",
    "        term = evidence_mapping.get(evidence, None)\n",
    "        if term:\n",
    "            score = evidence_scores.get(term, None)\n",
    "            return score\n",
    "\n",
    "locations['reliability'] = locations['evidence'].map(get_reliability)"
   ]
  },
  {
   "cell_type": "code",
   "execution_count": 8,
   "metadata": {
    "collapsed": false
   },
   "outputs": [],
   "source": [
    "locations_with_evidence = locations.dropna(subset=['evidence'])"
   ]
  },
  {
   "cell_type": "code",
   "execution_count": 18,
   "metadata": {
    "collapsed": false
   },
   "outputs": [
    {
     "name": "stdout",
     "output_type": "stream",
     "text": [
      "Copy-paste the following to make your own mapping!\n\n\nlocation_mapping = {\n    \"Apical cell membrane\": \"\",\n    \"Apicolateral cell membrane\": \"\",\n    \"Basal cell membrane\": \"\",\n    \"Basolateral cell membrane\": \"\",\n    \"Cell junction\": \"\",\n    \"Cell membrane\": \"\",\n    \"Cell projection\": \"\",\n    \"Cell surface\": \"\",\n    \"Chromosome\": \"\",\n    \"Cleavage furrow\": \"\",\n    \"Cornified envelope\": \"\",\n    \"Cytoplasm\": \"\",\n    \"Cytoplasmic granule\": \"\",\n    \"Cytoplasmic granule lumen\": \"\",\n    \"Cytoplasmic granule membrane\": \"\",\n    \"Cytoplasmic vesicle\": \"\",\n    \"Cytoplasmic vesicle lumen\": \"\",\n    \"Cytoplasmic vesicle membrane\": \"\",\n    \"Early endosome\": \"\",\n    \"Early endosome membrane\": \"\",\n    \"Endomembrane system\": \"\",\n    \"Endoplasmic reticulum\": \"\",\n    \"Endoplasmic reticulum lumen\": \"\",\n    \"Endoplasmic reticulum membrane\": \"\",\n    \"Endoplasmic reticulum-Golgi intermediate compartment\": \"\",\n    \"Endoplasmic reticulum-Golgi intermediate compartment lumen\": \"\",\n    \"Endoplasmic reticulum-Golgi intermediate compartment membrane\": \"\",\n    \"Endosome\": \"\",\n    \"Endosome lumen\": \"\",\n    \"Endosome membrane\": \"\",\n    \"Extracellular vesicle\": \"\",\n    \"Extracellular vesicle membrane\": \"\",\n    \"Golgi apparatus\": \"\",\n    \"Golgi apparatus lumen\": \"\",\n    \"Golgi apparatus membrane\": \"\",\n    \"Inflammasome\": \"\",\n    \"Late endosome\": \"\",\n    \"Late endosome membrane\": \"\",\n    \"Lateral cell membrane\": \"\",\n    \"Lipid droplet\": \"\",\n    \"Lysosome\": \"\",\n    \"Lysosome lumen\": \"\",\n    \"Lysosome membrane\": \"\",\n    \"Melanosome\": \"\",\n    \"Melanosome membrane\": \"\",\n    \"Membrane\": \"\",\n    \"Membrane raft\": \"\",\n    \"Microsome\": \"\",\n    \"Microsome membrane\": \"\",\n    \"Midbody\": \"\",\n    \"Mitochondrion\": \"\",\n    \"Mitochondrion envelope\": \"\",\n    \"Mitochondrion inner membrane\": \"\",\n    \"Mitochondrion intermembrane space\": \"\",\n    \"Mitochondrion matrix\": \"\",\n    \"Mitochondrion membrane\": \"\",\n    \"Mitochondrion outer membrane\": \"\",\n    \"Myelin membrane\": \"\",\n    \"Nucleus\": \"\",\n    \"Nucleus envelope\": \"\",\n    \"Nucleus inner membrane\": \"\",\n    \"Nucleus lamina\": \"\",\n    \"Nucleus matrix\": \"\",\n    \"Nucleus membrane\": \"\",\n    \"Nucleus outer membrane\": \"\",\n    \"Nucleus speckle\": \"\",\n    \"Perikaryon\": \"\",\n    \"Peroxisome\": \"\",\n    \"Peroxisome matrix\": \"\",\n    \"Peroxisome membrane\": \"\",\n    \"Photoreceptor inner segment\": \"\",\n    \"Preautophagosomal structure\": \"\",\n    \"Preautophagosomal structure membrane\": \"\",\n    \"Prevacuolar compartment membrane\": \"\",\n    \"Recycling endosome\": \"\",\n    \"Recycling endosome membrane\": \"\",\n    \"Rough endoplasmic reticulum\": \"\",\n    \"Rough endoplasmic reticulum lumen\": \"\",\n    \"Rough endoplasmic reticulum membrane\": \"\",\n    \"Sarcoplasmic reticulum\": \"\",\n    \"Sarcoplasmic reticulum lumen\": \"\",\n    \"Sarcoplasmic reticulum membrane\": \"\",\n    \"Secreted\": \"\",\n    \"Smooth endoplasmic reticulum membrane\": \"\",\n    \"Target cell membrane\": \"\",\n    \"Vacuole\": \"\",\n    \"Vacuole membrane\": \"\",\n    \"Virion\": \"\"\n}\n"
     ]
    }
   ],
   "source": [
    "print(\"Copy-paste the following to make your own mapping!\\n\\n\")\n",
    "\n",
    "unique_locations = locations['location'].dropna().unique()\n",
    "unique_locations.sort()\n",
    "\n",
    "print(\"location_mapping = {\")\n",
    "print(\"    \\\"\" + \"\\\": \\\"\\\",\\n    \\\"\".join(unique_locations) + \"\\\": \\\"\\\"\")\n",
    "print(\"}\")"
   ]
  },
  {
   "cell_type": "code",
   "execution_count": 19,
   "metadata": {},
   "outputs": [],
   "source": [
    "location_mapping = {\n",
    "    \"Apical cell membrane\": \"\",\n",
    "    \"Apicolateral cell membrane\": \"\",\n",
    "    \"Basal cell membrane\": \"\",\n",
    "    \"Basolateral cell membrane\": \"\",\n",
    "    \"Cell junction\": \"\",\n",
    "    \"Cell membrane\": \"\",\n",
    "    \"Cell projection\": \"\",\n",
    "    \"Cell surface\": \"\",\n",
    "    \"Chromosome\": \"\",\n",
    "    \"Cleavage furrow\": \"\",\n",
    "    \"Cornified envelope\": \"\",\n",
    "    \"Cytoplasm\": \"\",\n",
    "    \"Cytoplasmic granule\": \"\",\n",
    "    \"Cytoplasmic granule lumen\": \"\",\n",
    "    \"Cytoplasmic granule membrane\": \"\",\n",
    "    \"Cytoplasmic vesicle\": \"\",\n",
    "    \"Cytoplasmic vesicle lumen\": \"\",\n",
    "    \"Cytoplasmic vesicle membrane\": \"\",\n",
    "    \"Early endosome\": \"\",\n",
    "    \"Early endosome membrane\": \"\",\n",
    "    \"Endomembrane system\": \"\",\n",
    "    \"Endoplasmic reticulum\": \"\",\n",
    "    \"Endoplasmic reticulum lumen\": \"\",\n",
    "    \"Endoplasmic reticulum membrane\": \"\",\n",
    "    \"Endoplasmic reticulum-Golgi intermediate compartment\": \"\",\n",
    "    \"Endoplasmic reticulum-Golgi intermediate compartment lumen\": \"\",\n",
    "    \"Endoplasmic reticulum-Golgi intermediate compartment membrane\": \"\",\n",
    "    \"Endosome\": \"\",\n",
    "    \"Endosome lumen\": \"\",\n",
    "    \"Endosome membrane\": \"\",\n",
    "    \"Extracellular vesicle\": \"\",\n",
    "    \"Extracellular vesicle membrane\": \"\",\n",
    "    \"Golgi apparatus\": \"\",\n",
    "    \"Golgi apparatus lumen\": \"\",\n",
    "    \"Golgi apparatus membrane\": \"\",\n",
    "    \"Inflammasome\": \"\",\n",
    "    \"Late endosome\": \"\",\n",
    "    \"Late endosome membrane\": \"\",\n",
    "    \"Lateral cell membrane\": \"\",\n",
    "    \"Lipid droplet\": \"\",\n",
    "    \"Lysosome\": \"\",\n",
    "    \"Lysosome lumen\": \"\",\n",
    "    \"Lysosome membrane\": \"\",\n",
    "    \"Melanosome\": \"\",\n",
    "    \"Melanosome membrane\": \"\",\n",
    "    \"Membrane\": \"\",\n",
    "    \"Membrane raft\": \"\",\n",
    "    \"Microsome\": \"\",\n",
    "    \"Microsome membrane\": \"\",\n",
    "    \"Midbody\": \"\",\n",
    "    \"Mitochondrion\": \"\",\n",
    "    \"Mitochondrion envelope\": \"\",\n",
    "    \"Mitochondrion inner membrane\": \"\",\n",
    "    \"Mitochondrion intermembrane space\": \"\",\n",
    "    \"Mitochondrion matrix\": \"\",\n",
    "    \"Mitochondrion membrane\": \"\",\n",
    "    \"Mitochondrion outer membrane\": \"\",\n",
    "    \"Myelin membrane\": \"\",\n",
    "    \"Nucleus\": \"\",\n",
    "    \"Nucleus envelope\": \"\",\n",
    "    \"Nucleus inner membrane\": \"\",\n",
    "    \"Nucleus lamina\": \"\",\n",
    "    \"Nucleus matrix\": \"\",\n",
    "    \"Nucleus membrane\": \"\",\n",
    "    \"Nucleus outer membrane\": \"\",\n",
    "    \"Nucleus speckle\": \"\",\n",
    "    \"Perikaryon\": \"\",\n",
    "    \"Peroxisome\": \"\",\n",
    "    \"Peroxisome matrix\": \"\",\n",
    "    \"Peroxisome membrane\": \"\",\n",
    "    \"Photoreceptor inner segment\": \"\",\n",
    "    \"Preautophagosomal structure\": \"\",\n",
    "    \"Preautophagosomal structure membrane\": \"\",\n",
    "    \"Prevacuolar compartment membrane\": \"\",\n",
    "    \"Recycling endosome\": \"\",\n",
    "    \"Recycling endosome membrane\": \"\",\n",
    "    \"Rough endoplasmic reticulum\": \"\",\n",
    "    \"Rough endoplasmic reticulum lumen\": \"\",\n",
    "    \"Rough endoplasmic reticulum membrane\": \"\",\n",
    "    \"Sarcoplasmic reticulum\": \"\",\n",
    "    \"Sarcoplasmic reticulum lumen\": \"\",\n",
    "    \"Sarcoplasmic reticulum membrane\": \"\",\n",
    "    \"Secreted\": \"\",\n",
    "    \"Smooth endoplasmic reticulum membrane\": \"\",\n",
    "    \"Target cell membrane\": \"\",\n",
    "    \"Vacuole\": \"\",\n",
    "    \"Vacuole membrane\": \"\",\n",
    "    \"Virion\": \"\"\n",
    "}"
   ]
  },
  {
   "cell_type": "code",
   "execution_count": null,
   "metadata": {},
   "outputs": [],
   "source": []
  }
 ],
 "metadata": {
  "kernelspec": {
   "display_name": "Python 2",
   "language": "python",
   "name": "python2"
  },
  "language_info": {
   "codemirror_mode": {
    "name": "ipython",
    "version": 2
   },
   "file_extension": ".py",
   "mimetype": "text/x-python",
   "name": "python",
   "nbconvert_exporter": "python",
   "pygments_lexer": "ipython2",
   "version": "2.7.6"
  }
 },
 "nbformat": 4,
 "nbformat_minor": 0
}
